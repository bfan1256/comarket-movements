{
 "cells": [
  {
   "cell_type": "markdown",
   "metadata": {},
   "source": [
    "# Covariance Experiments"
   ]
  },
  {
   "cell_type": "code",
   "execution_count": 143,
   "metadata": {},
   "outputs": [],
   "source": [
    "import pandas as pd\n",
    "import pickle"
   ]
  },
  {
   "cell_type": "markdown",
   "metadata": {},
   "source": [
    "## Get Sample"
   ]
  },
  {
   "cell_type": "code",
   "execution_count": 182,
   "metadata": {},
   "outputs": [],
   "source": [
    "with open('./spy_returns.p', 'rb') as f:\n",
    "    spy = pickle.load(f)"
   ]
  },
  {
   "cell_type": "code",
   "execution_count": 192,
   "metadata": {},
   "outputs": [
    {
     "data": {
      "text/plain": [
       "0     -0.011212\n",
       "1     -0.006632\n",
       "2      0.007107\n",
       "3      0.002317\n",
       "4      0.008220\n",
       "         ...   \n",
       "246    0.007442\n",
       "247   -0.000392\n",
       "248    0.023003\n",
       "249   -0.008285\n",
       "250   -0.001360\n",
       "Name: prccd, Length: 251, dtype: float64"
      ]
     },
     "execution_count": 192,
     "metadata": {},
     "output_type": "execute_result"
    }
   ],
   "source": [
    "spy"
   ]
  },
  {
   "cell_type": "code",
   "execution_count": 183,
   "metadata": {},
   "outputs": [],
   "source": [
    "prices = pd.read_csv('./data/sample-prices.csv')"
   ]
  },
  {
   "cell_type": "code",
   "execution_count": 184,
   "metadata": {},
   "outputs": [],
   "source": [
    "def get_returns(ticker):\n",
    "    res = prices[prices['tic'] == ticker]\n",
    "    return ((res['prccd'].shift(1) - res['prccd']) / res['prccd'])[1:].reset_index()['prccd']"
   ]
  },
  {
   "cell_type": "code",
   "execution_count": 185,
   "metadata": {},
   "outputs": [],
   "source": [
    "res = get_returns(prices['tic'][0])[:252]"
   ]
  },
  {
   "cell_type": "code",
   "execution_count": 189,
   "metadata": {},
   "outputs": [
    {
     "data": {
      "text/plain": [
       "-9.057194541889908e-06"
      ]
     },
     "execution_count": 189,
     "metadata": {},
     "output_type": "execute_result"
    }
   ],
   "source": [
    "spy.cov(res)"
   ]
  },
  {
   "cell_type": "code",
   "execution_count": 190,
   "metadata": {},
   "outputs": [],
   "source": [
    "def get_covariance_per_month(ticker):\n",
    "    returns = get_returns(ticker)\n",
    "    spy = get_returns('SPY')\n",
    "    covariances = []\n",
    "    for i in range(0, len(returns), 30):\n",
    "        covariances.append(returns[i:i + 30].cov(spy[i:i + 30]))\n",
    "    return covariances"
   ]
  },
  {
   "cell_type": "code",
   "execution_count": 191,
   "metadata": {},
   "outputs": [
    {
     "data": {
      "text/plain": [
       "[nan,\n",
       " nan,\n",
       " nan,\n",
       " nan,\n",
       " nan,\n",
       " nan,\n",
       " nan,\n",
       " nan,\n",
       " nan,\n",
       " nan,\n",
       " nan,\n",
       " nan,\n",
       " nan,\n",
       " nan,\n",
       " nan,\n",
       " nan,\n",
       " nan,\n",
       " nan,\n",
       " nan,\n",
       " nan,\n",
       " nan,\n",
       " nan,\n",
       " nan,\n",
       " nan,\n",
       " nan,\n",
       " nan,\n",
       " nan,\n",
       " nan,\n",
       " nan,\n",
       " nan,\n",
       " nan,\n",
       " nan,\n",
       " nan,\n",
       " nan,\n",
       " nan,\n",
       " nan,\n",
       " nan,\n",
       " nan,\n",
       " nan,\n",
       " nan,\n",
       " nan,\n",
       " nan,\n",
       " nan,\n",
       " nan,\n",
       " nan,\n",
       " nan,\n",
       " nan,\n",
       " nan,\n",
       " nan,\n",
       " nan,\n",
       " nan,\n",
       " nan,\n",
       " nan,\n",
       " nan,\n",
       " nan,\n",
       " nan,\n",
       " nan,\n",
       " nan,\n",
       " nan,\n",
       " nan,\n",
       " nan,\n",
       " nan,\n",
       " nan,\n",
       " nan,\n",
       " nan,\n",
       " nan,\n",
       " nan,\n",
       " nan,\n",
       " nan,\n",
       " nan,\n",
       " nan,\n",
       " nan,\n",
       " nan,\n",
       " nan,\n",
       " nan,\n",
       " nan,\n",
       " nan,\n",
       " nan,\n",
       " nan,\n",
       " nan,\n",
       " nan,\n",
       " nan,\n",
       " nan,\n",
       " nan,\n",
       " nan,\n",
       " nan,\n",
       " nan,\n",
       " nan,\n",
       " nan,\n",
       " nan,\n",
       " nan,\n",
       " nan,\n",
       " nan,\n",
       " nan,\n",
       " nan,\n",
       " nan,\n",
       " nan,\n",
       " nan,\n",
       " nan,\n",
       " nan,\n",
       " nan,\n",
       " nan,\n",
       " nan,\n",
       " nan,\n",
       " nan,\n",
       " nan,\n",
       " nan,\n",
       " nan,\n",
       " nan,\n",
       " nan,\n",
       " nan,\n",
       " nan,\n",
       " nan,\n",
       " nan,\n",
       " nan,\n",
       " nan,\n",
       " nan,\n",
       " nan,\n",
       " nan,\n",
       " nan,\n",
       " nan,\n",
       " nan,\n",
       " nan,\n",
       " nan,\n",
       " nan,\n",
       " nan,\n",
       " nan,\n",
       " nan,\n",
       " nan,\n",
       " nan,\n",
       " nan,\n",
       " nan,\n",
       " nan,\n",
       " nan,\n",
       " nan,\n",
       " nan,\n",
       " nan,\n",
       " nan,\n",
       " nan,\n",
       " nan,\n",
       " nan,\n",
       " nan,\n",
       " nan,\n",
       " nan,\n",
       " nan,\n",
       " nan,\n",
       " nan,\n",
       " nan,\n",
       " nan,\n",
       " nan,\n",
       " nan]"
      ]
     },
     "execution_count": 191,
     "metadata": {},
     "output_type": "execute_result"
    }
   ],
   "source": [
    "get_covariance_per_month(prices['tic'].unique()[0])"
   ]
  },
  {
   "cell_type": "code",
   "execution_count": 159,
   "metadata": {},
   "outputs": [
    {
     "data": {
      "application/vnd.jupyter.widget-view+json": {
       "model_id": "e672a5f184c84c57ab095929c4d5d91c",
       "version_major": 2,
       "version_minor": 0
      },
      "text/plain": [
       "HBox(children=(FloatProgress(value=0.0, max=2014.0), HTML(value='')))"
      ]
     },
     "metadata": {},
     "output_type": "display_data"
    },
    {
     "name": "stdout",
     "output_type": "stream",
     "text": [
      "\n"
     ]
    }
   ],
   "source": [
    "import pickle\n",
    "from tqdm.notebook import tqdm\n",
    "covariances = {}\n",
    "for ticker in tqdm(prices['tic'].unique()):\n",
    "    covariances[ticker] = get_covariance_per_month(ticker)\n",
    "\n",
    "with open('covariances.p', 'wb') as f:\n",
    "    pickle.dump(covariances, f)"
   ]
  },
  {
   "cell_type": "code",
   "execution_count": 163,
   "metadata": {},
   "outputs": [
    {
     "data": {
      "text/plain": [
       "dict_keys(['AFAP', 'MRCBF', 'MRC.', 'APD', 'AEP', 'AEP.Z', 'AEP.PA', 'AEP.PB', 'AMTA', 'AP', 'ALOT', 'ACLLF', 'ACO.X', 'ACLTF', 'ACO.Y', 'BDX', 'BDXA', 'BA', 'BAM', 'BAM.A', '4975B', 'BAM.PR.C', 'BAM.PR.B', 'BAM.PR.E', 'BAM.PH', 'BAM.PR.G', 'BAM.PR.I', 'BAM.PR.J', 'BAM.PR.K', 'BAM.PR.L', 'BAM.PR.M', 'BAM.PR.N', 'BAM.PR.O', 'BAM.PR.P', 'BAMGF', 'BAM.PR.R', 'BAMKF', 'BAM.PR.T', 'BAM.PR.X', 'BAM.PR.Z', 'BAM.PF.A', 'BAM.PF.B', 'BAM.PF.C', 'BAM.PF.D', 'BAM.PF.E', 'BAM.PF.F', 'BAM.PF.G', 'BAM.PF.H', 'BAM.PR.S', 'BAM.PF.I', 'BAM.PF.J', 'CAH', 'CL', 'AON', 'CTG', 'CTWS', 'CTWSP', 'CUO', 'DCO', 'EGN', 'NEE', 'NEE.PO.1', 'NEE.PP.1', 'NEE.PQ', 'NEE.PR', 'CVST', 'FNMA', 'FNMAP', 'FNMAO', 'FNMAM', 'FNMAG', 'FNM.PJ', 'FNM.PK', 'FNMAN', 'FNMAL', 'FNMAK', 'FNMAH', 'FNMAI', 'FNMAJ', 'FNMAS', '3FANIP', 'FNMAT', 'MTB', 'MTB.PC', 'MTB.P', 'MTB.WS', 'USB', 'USB.PH', 'USB.PL', 'USB.PA', 'USB.PM', 'USB.PN', 'USB.PO', 'USB.PP', 'FCE.A', 'FCE.B', 'FCY', 'FUL', 'JOB', 'MTLQQ', 'GM.1', 'XGM', 'HGM', 'BGM.1', 'GMS.1', 'GM', 'GMM.U', 'GM.PB', 'GM.WB', 'GM.WA', 'GM.WC', 'GLAXF', 'GSK', 'GDRZF', 'GRZ.', 'GT', 'GTPPP', 'GWW', 'HPQ', 'JBHT', 'INTC', 'INS', 'NAV', 'NAV.PD', 'ENB', 'ENB.', 'ENB.PR.A', 'EBRGF', 'ENB.PR.B', 'EBRZF', 'ENB.PR.D', 'ENB.PR.F', 'ENB.PR.H', 'ENBBF', 'ENB.PR.U', 'EBBNF', 'ENB.UN', 'ENB.PR.N', 'ENB.PR.P', 'ENB.PR.T', 'ENB.PR.V', 'ENB.PR.Y', 'ENB.PF.V', 'ENB.PR.J', 'ENB.PF.A', 'ENB.PF.C', 'ENB.PF.E', 'ENB.PF.G', 'ENB.PF.I', 'ENB.PR.C', 'ENB.PF.K', 'TCOR', 'KATYQ', 'LNCE', 'PALDF', 'PDL.', 'PAL.WS', 'PDL.WT', 'PDL.WT.B', 'PDL.WT.A', 'MCS', '5456B', 'MKC', 'MKC.V', 'MDP', 'MDPEB', 'MXC', 'MUR', 'BAC', 'IKR', 'BAC.PD', 'BAC.PE', 'BAC.PI', 'BAC.PJ', 'BAC.PL', 'BAC.PH', 'BML.PG', 'BML.PH', 'BML.PI', 'BML.PJ', 'BML.PL', 'BML.PN', 'BML.PO', 'BML.PQ', 'BAC.PS', 'BAC.WB', 'BAC.WA', 'BAC.PW', 'BAC.PY', 'BAC.PC', 'BAC.PA', 'BAC.PB', 'BAC.PK', 'MER.PK', 'BAC.PM', 'BAC.PN', 'NUVR', 'OMDD', 'OSGIQ', 'OSGB', 'OSG', 'PNC', 'PNC.PC', 'PNC.PD', 'PNC.PL', 'PNC.WS', 'PNC.PP', 'PNC.PQ', 'PKDSQ', 'PKDC', 'AFG', 'AFE', 'PEI', 'PEI.PA.1', 'PEI.PA', 'PEI.PB', 'PEI.PC', 'PEI.PD', 'PEP', 'PWCDF', 'POW.', 'POW.PR.E', 'POW.PR.F', 'POW.PR.A', 'POW.PR.B', 'POW.PR.C', 'POW.PR.D', 'POW.PR.G', 'PDNLB', 'PDNLA', 'NXGN', 'RTMAF', 'RET.A', 'RTMNF', 'RET.', 'RCI', 'RCI.B', 'RCIAF', 'RCI.A', 'SCPJ', 'SAWLF', 'SCL.', 'SCL.B', 'KEY', 'KEY.PG', 'KEY.PH', 'KEY.PI', 'KEY.PJ', 'KEY.PK', 'SJI', 'SJIU', 'SJIJ', 'EIX', 'SRSK', 'SXI', 'STT', 'STT.PC', 'STT.PD', 'STT.PE', 'STT.PG', 'STAI', 'TISI', 'TECK', 'TECK.B', 'TCKRF', 'TECK.A', 'TSS', 'TRP', 'TRP.', 'TCA.PR.X', 'TCA.P', 'TCA.PR.Y', 'TRP.PR.A', 'TRP.PR.B', 'TCANF', 'TRP.PR.C', 'TRP.PR.D', 'TRP.PR.E', 'TNCAF', 'TRP.PR.F', 'TRP.PR.G', 'TRP.PR.H', 'TRP.PR.I', 'TRP.PR.J', 'TRP.PR.K', 'UFI', 'WRE', 'WLBAQ', 'WLBPZ', 'TFC', 'BBT.PD', 'BBT.PE', 'TFC.PF', 'TFC.PG', 'TFC.PH', 'TFC.PI', 'PPCB', 'AMWD', 'CLFD', 'RADA', 'PMULF', 'RUF.UN', 'VHI', 'EHC', 'HLS.WS', 'JECFF', 'JEC.', 'CCEP', 'CERN', 'SPSIQ', 'SCIE', 'IOR', 'ICCC', 'RCPIQ', 'BHPLF', 'BHP', 'BBL', 'SAFM', 'ASM', 'ASM.', 'AVMMF', 'ASM.WT', 'OPY', 'OPY.Z', '7404B', '7402B', 'EBIX', 'RBTI', 'TIF', 'XRAY', 'IEP', 'IEP.P', 'SMLP', 'HUSKF', 'HSE.', 'HSE.PR.A', 'HSE.PR.C', 'HSE.PR.E', 'HSE.PR.G', 'HSE.PR.B', 'QZMRF', 'QZM.', 'BDRBF', 'BBD.B', 'BDRAF', 'BBD.A', 'BDRPF', 'BBD.PR.B', 'BDRXF', 'BBD.PR.C', 'BOMBF', 'BBD.PR.D', 'ICTPU', 'FRC.1', 'FRC.PA.1', 'FRC.PB.1', 'FRC', 'FRC.PA', 'FRC.PB', 'FRC.PC', 'FRC.PD', 'FRC.PE', 'FRC.PF', 'FRC.PG', 'FRC.PH', 'FRC.PI', 'FRC.PJ', 'SKAJ', 'TAC', 'TA.', 'TNSSF', 'TA.PR.D', 'TA.PR.F', 'TSLTF', 'TA.PR.H', 'TA.PR.J', 'TA.PR.E', 'TVTV', 'CDUAF', 'CU.', 'CDUUF', 'CU.X', 'CU.PR.A', 'CU.PR.B', 'CNAUF', 'CU.PR.C', 'CU.PR.D', 'CU.PR.E', 'CU.PR.F', 'CNUTF', 'CU.PR.G', 'CU.PR.H', 'CDUTF', 'CU.PR.I', 'VEGYF', 'VUI.', 'SVCTF', 'SEC.', 'BCKMF', 'BEK.', 'RPT', 'RPT.PB', 'RPT.PC', 'RPT.PD', 'STAR', 'STAR.PE', 'STAR.PD', 'STAR.PF', 'STAR.PG', 'STAR.PI', 'FMCC', 'FMCCI', 'FMCKK', 'FMCCH', 'FMCCG', 'FMCCK', 'FMCCL', 'FMCCM', 'FMCCP', 'FMCCJ', 'FMCCN', 'FMCCO', 'FMCKP', 'FMCCT', 'FMCKO', 'FMCKN', 'FMCCS', 'FMCKM', 'FMCKL', 'FMCKI', 'FMCKJ', 'PVVLF', 'PVF.UN', 'HSEA', 'HSBC', 'HSBC.PA', 'HSEB', 'NTXFY', 'BMO', 'BMO.', 'BMO.PR.H', 'BMO.PR.J', 'BMO.PR.K', 'BMQZF', 'BMO.PL', 'BMQCF', 'BMO.PR.M', 'BMO.PN', 'BMO.PO', 'BMO.PP', 'BMO.PR.Q', 'BMO.PR.R', 'BMO.PR.S', 'BMMQF', 'BMO.PR.T', 'BMO.PR.W', 'BMO.PR.Y', 'BMO.PR.Z', 'BMO.PR.A', 'BMO.PR.B', 'BMO.PR.D', 'BMO.PR.E', 'BMO.PR.F', 'RY', 'RY.', 'RY.PR.W', 'RYLBF', 'RY.PR.A', 'RY.NT.C', 'RY.PI', 'RBCDF', 'RY.PL', 'RY.PR.2', 'RY.PP.', 'RY.PR.', 'RY.PT.1', 'RY.PX', 'RY.PY', 'RY.PR.1', 'RY.PR.B', 'RY.PR.C', 'RBKDF', 'RY.PR.D', 'RY.PR.E', 'RY.PR.F', 'RYYLF', 'RY.PR.G', 'RY.PR.Z', 'RY.PR.K', 'RY.PR.H', 'RY.PR.J', 'RY.PR.M', 'RY.PR.N', 'RY.PR.O', 'RY.PR.P', 'RY.PS', 'RY.PT', 'RY.PR.Q', 'RYMTF', 'RY.PR.R', 'RY.PR.S', 'IX', 'MLYBY', 'TD', 'TD.', 'TD.U', 'TD.PR.M', 'TD.PR.N', 'TD.PR.O', 'TD.PS', 'TD.PY', 'TD.PA', 'TD.PR.C', 'TD.PE', 'TD.PG', 'TD.PI', 'TD.PK', 'TD.PR.P', 'TD.PR.Q', 'TD.PR.R', 'TD.PR.T', 'TD.PR.Z', 'TD.PF.A', 'TNTTF', 'TD.PF.B', 'TD.PF.C', 'TDBKF', 'TD.PF.D', 'TD.PF.E', 'TD.PF.F', 'TNTOF', 'TD.PF.G', 'TD.PF.H', 'TD.PF.I', 'TD.PF.J', 'TD.PF.K', 'TD.PF.L', 'TD.PF.M', 'LYG', 'MGPHF', 'LLG.', 'TSCRF', 'SCR.', 'MRCC', 'INVU', 'BPO', 'BPO.', 'BPO.PR.F', 'BPO.PR.H', 'BPO.PR.I', 'BPO.PR.J', 'BPO.PK', 'BPO.PL', 'BPO.PN', 'BPO.PR.P', 'BPO.PR.R', 'BPO.PR.T', 'BPO.PR.X', 'BPO.PR.W', 'BPO.PR.Y', 'BPO.PR.A', 'BPO.PR.C', 'BPO.PR.S', 'GWLIF', 'GWO.', 'GWLOF', 'GWO.PR.F', 'GWO.PR.G', 'GWO.PR.H', 'GRWTF', 'GWO.PR.I', 'GWO.PJ', 'GWO.PR.L', 'GWO.PR.M', 'GWO.PR.N', 'GWO.PR.O', 'GRWFF', 'GWO.PR.P', 'GWLXF', 'GWO.PR.Q', 'GWO.PR.R', 'GWO.PR.S', 'GWO.PR.T', 'NEOG', 'KERMF', 'KER.', 'KER.WT', 'EFRTF', 'NXR.UN', 'FGBDF', 'FGD.', 'EMCI', 'WLYYF', 'WELL.', 'IRIG', 'GAYMF', 'GWM.', 'ANY', 'ANY.', 'MCY', 'TRUU.1', 'SOV', 'SOV.PA', 'SOV.PC', 'ASRV', 'AMNB', 'ANAV', 'ATLKY', 'ATLCY', 'LBTD', 'PETX', 'AMH', 'AMH.PA', 'AMH.PB', 'AMH.PC', 'AMH.PD', 'AMH.PE', 'AMH.PF', 'AMH.PG', 'AMH.PH', 'AXIM', 'EPZM', 'LIQDQ', 'DNPLY', 'SFM', 'DRUNF', 'DRM.', 'DRM.PR.A', 'ONTX', 'ONTXW', 'EXOXF', 'EXO.H', 'CNABQ', 'FCF', 'THFF', 'CTRL', 'WLYW', 'EAST', 'EASTW', 'IRT', 'BNFT', 'IMNPQ', 'AXPWQ', 'AXPQQ', 'GLOB', 'PEGI', 'PEGI.', 'CBFV', 'ESNT', 'MNAT', 'CSOC.A', 'CSOC.B', 'AVEW', 'MIELF', 'MIELY', 'VRNS', 'MENXF', 'OEE.', 'SMLR', 'GENGF', 'GXE.', 'BRG', 'BRG.PA', 'BRG.PC', 'BRG.PD', 'AAGH', 'MBUU', 'CBPX', 'COCP', 'RIO', 'RTOLY', 'LE', 'GLMD', 'RMNI', 'RMNIU', 'RMNIW', 'ALDR', 'CNGO', 'OBNNF', 'OSK.', 'OBBNF', 'OSK.WT', 'CBWBF', 'CWB.', 'CWB.PA', 'CWB.WT', 'CWB.PR.B', 'CWB.PR.C', 'CWB.PR.D', 'WPG', 'WPG.PG', 'WPG.PH', 'WPG.PI', 'GLRI', 'HMM.', 'GSS', 'GSC.', 'IPMLF', 'III.', 'TRUE', 'GGROU', 'AMPH', 'WSTI', 'PAAS', 'PAAS.', '2100B', '2101B', 'PGHEF', 'PGF.', 'LTRPA', 'LTRPB', 'MTNB', 'LSDAF', 'LAS.A', 'PLYM', 'PLYM.PA', 'PSXRF', 'EPRSQ', 'OTIC', 'UGEIF', 'UGE.', 'QENC', 'FCUV', 'LSTR', 'CREX', 'CREXW', 'GARB', 'RNSFF', 'ROE.', 'RCBC', 'MMSI', 'GBSNQ', 'GBSNU', 'KSMRF', 'CNS.', 'MTRAF', 'MRU.', 'VERB', 'VERBW', 'TILCF', 'TIL.', 'DIIBF', 'DII.B', 'DRLAF', 'DII.A', 'AZZUF', 'AZZ.', 'DAFL', 'AAAP', 'GDET', 'ELRE', 'GNSS', 'NRGXQ', 'ATCN', 'ASHG', 'VDQSF', 'ESE', 'ADRO', 'NORSA', 'NORSB', 'OPRX', 'ETEC', 'PAVMU', 'PAVM', 'PAVMW', 'PAVMZ', 'TEHG', 'PSB', 'PSB.PD', 'PSB.PF', 'PSB.PH', 'PSB.PI', 'PSB.PK', 'PSB.PL', 'PSB.PM', 'PSB.PO', 'PSB.PP', 'PSB.PR', 'PSB.PS', 'PSB.PT', 'PSB.PU', 'PSB.PV', 'PSB.PW', 'PSB.PX', 'PSB.PY', 'PSB.PZ', 'EVH', 'NNWWF', 'NWC.', 'BFHJ', 'SPND', 'CORG', 'RAY.A', 'RAY.B', 'AES', 'IMBI', 'CCJ', 'CCO.', 'CBAUY', 'CMWAY', 'AGLE', 'ODFL', 'KIM', 'KIM.PF', 'KIM.PG', 'KIM.PH', 'KIM.PI', 'KIM.PJ', 'KIM.PK', 'KIM.PL', 'KIM.PM', 'PEYE', 'TNH', 'BETR', 'VRTS', 'VRTSP', 'BEVVF', 'BEE.', 'BKE', 'KSS', 'SCCAF', 'ZZZ.', 'DYII', 'CACC', 'BNET', 'GEECF', 'PMTS', 'PMTS.', 'AXDDF', 'AMZ.', 'CRVP', 'ACRS', 'TCO', 'TCO.PA', 'TCO.PG', 'TCO.PH', 'TCO.PJ', 'TCO.PK', 'HMSY', 'MNDP', 'FCBC', 'SRLZF', 'SRL.', 'IOTS', 'MPVDF', 'MPVD.', 'FDCFF', 'FMC.', 'WAAS', 'BRSLF', 'BME.', 'RRR', 'WBT', 'SHWZ', 'TRX', 'TNX.', 'PTIX', 'ZEST', 'FG', 'CFCOU', 'FGLHF', 'ZOM', 'ZOM.', 'HHDS', 'TWLO', 'TKXHF', 'TKX.', 'KEW.UN', 'KEW.WT', 'KWWMF', 'KEW.', 'TPIC', 'HONE', 'FHB', 'XOGAQ', 'CHKAQ', 'CHKLQ', 'CHK.PE', 'CHKVQ', 'SHASF', 'SNM.', 'CRY', 'CRY.P', 'DESTQ', 'ALG', 'BANF', 'VNRCF', 'VNR.', 'VNR.PR.A', 'BBRW', 'JGLDF', 'JG.', 'VCSY', 'TWI', 'RIG', 'GTYHU', 'GTYH', 'GTYHW', 'TBL.U', 'TGAFF', 'TBL.', 'THRM', 'CGEAF', 'CCA.', 'BCO', 'HWF.', 'CNDT', 'ALHA', 'MDCN', 'MLLLF', 'GAME.', 'CAMDF.1', 'CMM.', 'QCRH', 'NVIC', 'BOPT', 'CBL', 'CBL.PB', 'CBL.PC', 'CBL.PD', 'CBL.PE', 'PTN', 'PTOTF', 'PAT.', 'PAT.WT', 'PTRTF', 'PAT.WT.A', 'PTONF', 'PAT.WT.B', 'PAT.WT.C', 'CNTY', 'NFX', 'FWRD', 'BOLL', 'RTTO', 'MBOT', 'HRVOF', 'HVST.', 'TNTHF', 'DCF.', 'SPG', 'SPG.PG', 'SPG.PF', 'SPG.PI', 'SPG.PJ', 'JFGI', 'DSPG', 'VET', 'VET.', 'MTNX', 'FLEX', 'SSD', 'HCC', 'HMNF', 'YEXT', 'DAR', 'MLLGF', 'MTL.', 'SCEYF', 'SHLE.', 'COF', 'COF.WS', 'COF.PP', 'COF.PC', 'COF.PD', 'COF.PF', 'COF.PG', 'COF.PH', 'COF.PI', 'CVNA', 'CPHC', 'KREF', 'RLLMF', 'REAL.', 'SKVY', 'BDVB', 'RDI', 'RDIB', 'DLPH', 'IPMG', 'GPMT', 'IAMXU', 'WINR', 'WINRW', 'NMTC', 'GNPX', 'CDBMF', 'CDB.', 'ZLAB', 'JT', 'HX', 'APEUF', 'AEP.', 'RROTF', 'ROOT.', 'BYZN', 'PNDHF', 'POND.', 'ONE', 'GHG', 'CANX', 'TGODF', 'TGOD.', 'TGOWF', 'TGOD.WT', 'TGOD.WS', 'INSP', 'EVLO', 'HUYA', 'XCUR', 'WRTC', 'CHRA', 'NEW', 'LXLLF.1', 'LVWL.', 'LVCNF', 'NFC.U', 'NFH', 'NFH.WS', 'BNGO', 'BNGOU', 'BNGOW', 'GH', 'ALLO', 'CTK', 'GBOKF', 'GTMS.', 'ORTX', 'KOREF', 'KORE.', 'MRNA', 'AGE', 'RBZHF', 'RBZWF', 'AUMC', 'BFTI', 'GORIF', 'GLDN.', 'HSTRF.1', 'TRG.H.1', 'NTGL', 'ACGL', 'ARH.PA', 'ARH.PB', 'ARH.PC', 'ACGLP', 'ACGLO', 'MD', 'MYGN', 'RNR', 'RNR.PA', 'RNR.PB', 'RNR.PC', 'RNR.PD', 'RNR.PE', 'RNR.PF', 'PNTR', 'IMH', 'IMPHP', 'IMPHO', 'NTAP', 'STGCF', 'SQP.', 'BDR', 'KFS', 'KFS.', 'KFSYF', '3KFSWF', 'ELCO', 'OTEX', 'OTEX.', 'INBP', 'AGFMF', 'AGF.B', 'AOLS', 'SINX', 'LPTH', 'CBPJ', 'FORD', 'FRCEF', 'FLB.1', 'CZNB', 'ELLO', 'SPH', 'FEIFF', 'FEI.', 'FEI.WT', 'FEI.WT.A', 'BNYN', 'APVS', 'PRAC', 'CPKF', 'EACC', 'CNBA', 'SPYR', 'SCRYY', 'USNA', 'GEL', 'TSDRF', 'TSD.', 'ELTK', 'RIVT', 'SBNC', 'SBNCM', 'BOLIF', 'BLS.1', 'GSIL', 'SRT.2', 'CDYCF', 'CDU.', 'UMPQ', 'UMPQZ', 'DHIL', 'ROBK', 'NICK', '3636B', 'NUBC', 'OSIS', 'CHRW', 'MBAY', 'SNNAF', 'SIE.', 'GPI', 'NOVC', 'NOVSP', 'ECMXF', 'UNV.', 'PGNX', 'ACCR', 'NWFL', 'RASFQ', 'RASGQ', 'RASJQ', 'RASLQ', 'TSBK', 'PSYTF', 'PSI.', 'RMTI', 'WTSHF', 'WTE.', 'CIX', 'MHVYF', 'TATYY', 'TUIFY', 'SINGY', 'KGFHF', 'KFSGY', 'KGFHY', 'WFAFY', 'HENKY', 'HENOY', 'POAHY', 'VLEEY', 'OMVKY', 'CTXAY', 'CGGYY', 'HXGBF', 'HXGBY', 'WNDLF', 'CPKPY', 'INTHY', '3WMMBY', 'WMMXY', 'WMMVY', 'AMIQF', 'ASI.', 'BRRRF', 'SOCK.', 'GEMNF', 'GKX.', 'AXREF', 'AHR.', 'PAYS', 'AHNMF', 'ACS.', 'SRE.', 'KL', 'KL.', 'JGFCF', 'JFC.', 'COETF', 'CMU.', 'IOGIF.', 'IOG.', 'TIDE', 'RMNXF', 'RMO.', 'EMPS', 'EXLLD', 'EXN.', 'EXN.WT.1', 'EXN.WT.A', 'EXN.WT', 'MXMSF', 'MXM.H', 'GSTN', 'FPPP', 'FPPPW', 'ALDVF', 'KIP.', 'TRBMF', 'TORQ.', 'FRHLF', 'FRU.', 'CNENF', 'CEN.', 'GPXM', 'TBMIF', 'AGO.', 'GWSAF', 'GWA.', 'PEZM.H', 'HFBA', 'HUSIF', 'NIM.', 'MPSFF', 'REVO.', 'GSSRF', 'GSS.', 'NXTFF', 'NE.', 'LKYSF.', 'RJ.H', 'MRDDF', 'OCG.', 'TITUF', 'TIC.', 'CNNEF', 'CNE.', 'NRSRF', 'NAU.', 'SBWFF', 'CUSN.', 'NKOSF', 'LAB.', 'XTRRF', 'XTT.', 'LMGDF', 'LUM.', 'AXXDF', 'IRON.', 'INXSF', 'INX.', 'TWRFF', 'TWR.', 'CNMXF', 'CSQ.', 'PPEHF', 'PUR.', 'LTXFF', 'LTX.', 'HBEIF', 'TUF.', 'SVSA', 'MSAJF', 'MSA.', 'CAHI', 'CGRW', 'UPLMQ', 'UP.', 'UPLCQ', 'HJI.', 'CSPUF', 'SPI.', 'WUHN', 'AMKR', 'SLCH', 'HCKT', 'ULTI', 'HWBK', 'ARPC', 'CPEU', 'CXDO', 'EGBN', 'ATDEF', 'MTZ.', 'RSAM', 'CSGP', 'CLS', 'CLS.', 'PKKW', 'RBCAA', '2386B', 'ELON', 'ESWW', 'HTDS', 'GIXEF', 'VRO.', 'MERR', 'CYBA', 'DUVNF', 'PER.', 'EWBC', 'EVCI', 'EEMMF', 'ETMC.', 'LTHIF', 'IZN.', 'CNBZ', 'CZBS', 'AUDC', 'NSMSF', 'NSM.H', 'SCNTQ', 'PREA', 'MECK', 'ETCK', 'MXGFF', 'MXG.', 'SWKH', 'MFC', 'MFC.', 'MFC.PR.A', 'MFC.PR.B', 'MFC.PR.C', 'MFC.PD', 'MFC.PE', 'MFC.PR.F', 'MFC.PR.G', 'MFC.PR.H', 'MFC.PR.I', 'MFC.PR.J', 'MFC.PR.K', 'MFC.PR.L', 'MFC.PR.M', 'MFC.PR.N', 'MFC.PR.O', 'MNLFF', 'MFC.PR.P', 'MFC.PR.R', 'MFC.PR.Q', 'KTHN', 'JCDAF', 'BTQNF', 'BQE.', 'GESI', 'DGMS', 'KTOS', 'CHTRQ', 'CHTR', 'SSPAF', 'SPK.', 'CRTN', 'PGUS', 'PPMH', 'ORNHQ', 'SHRC', 'ERBA', 'IAFNF', 'IAG.', 'IAF.PR.B', 'IAG.PC', 'IAG.PE', 'IAG.PF', 'IAF.PR.G', 'IAF.PR.I', 'PBA', 'PPL.', 'PBNAF', 'PPL.PR.A', 'PPL.PR.C', 'PPL.PR.E', 'PPL.PR.G', 'PPL.PR.I', 'PPL.PR.K', 'PPL.PR.M', 'PPL.PR.O', 'PPL.PR.S', 'PPL.PR.Q', 'PPL.PF.A', 'PFL.PF.C', 'PPL.PF.E', 'SLF', 'SLF.', 'SLFYF', 'SLF.PR.A', 'SLF.PR.B', 'SLF.PR.C', 'SLF.PR.D', 'SNLFF', 'SLF.PR.E', 'SLF.PR.F', 'SUNFF', 'SLF.PR.G', 'SLF.PR.H', 'SLFXF', 'SLF.PR.I', 'SLF.PR.J', 'SLF.PR.K', 'EBMT', 'MET', 'MET.PA', 'MET.PB', 'MEU', 'MLU', 'MET.PE', 'CHSCP', 'CHSCO', 'CHSCN', 'CHSCM', 'CHSCL', 'RBBN', 'CBYI', 'REDFY', 'SXHHF', 'SHH.', 'SVTLQ', 'ENTG', 'OIIM', 'TMEN', 'RMDFF', 'RMD.', 'BCDMF', 'KUU.', 'PJT.', 'ASGXF', 'SLCT', 'GRSFF', 'VGN.', 'MOOIF', 'MOO.', 'ETP', 'ETP.PC', 'ETP.PD', 'ETP.PE', 'CGLDF', 'CGLD.', 'SNMX', 'ZCC.H', 'ADTR', 'FIRT', 'HCGS', 'WSHE', 'IHTI', 'FACDF', 'DCD.UN', 'WMDL', 'AAXN', 'OPCO', 'HESG', 'CCRN', 'ZBH', 'BGFV', 'NMPWP', 'NMK.PB', 'NMK.PC', 'PRXG', 'PDM', 'UCSO', 'DIOSF', 'DOS.', 'MBVA', 'BKMNF', 'BML.', 'NNDIF', 'NIF.UN', 'PVNC', 'BANC', 'BANC.PC', 'BANC.PD', 'BANC.PE', 'MMLP', 'GALT', 'GALTU', 'GALTW', 'TFII', 'TFII.', 'BFC', 'MJLB', 'WENEF', 'SS.', 'SPMI', 'TKRFF', 'TK.', 'RSRBF', 'RBX.', 'IJJP', 'WLL.2', 'WLL.PA', 'MEQYF', 'MEQ.', 'CWEGF', 'CR.', 'MIFF', 'ACOR', 'GTXI', 'CWSRF', 'CSH.UN', 'PNXLF', 'LIT.', 'GMPXF', 'GMP.', 'GMP.PR.B', 'GMP.PR.C', 'MLER', 'ABR', 'ABR.PA', 'ABR.PB', 'ABR.PC', 'BOPFF', 'BOR.', 'STXS', 'STXSW', 'CLWA', 'AGGZF', 'AFN.', 'EXR', 'OHRP', 'SYNE', 'APHTF', 'NPA.', 'ENS', 'QCAAF', 'ITKH', 'DLR', 'DLR.PA', 'DLR.PB', 'DLR.PE', 'DLR.PF', 'DLR.PG', 'DLR.PH', 'DLR.PI', 'DLR.PJ', 'DLR.PC', 'DLR.PK', 'DLR.PL', 'BEOB', 'XSPY', 'EDR.1', 'IGPG', 'WWII', 'INBK', 'BSCA', 'EXLS', 'VELXF', 'XOP.', 'DGPIF', 'DCM.', 'CHOB', 'TRIL', 'TRIL.', 'DRYS', 'MFMLF', 'MFM.', 'XAN', 'RSO.PA', 'RSO.PB', 'XAN.PC', 'ZUMZ', 'VQSLF', 'VQS.', 'KOP', 'TLP', 'WOFA', 'CVTPF', 'NPC.', 'WEB', 'COLFF', 'GCL.', 'DISCA', 'DISCB', 'DISCK', 'TRXAQ', 'TRXBQ', 'TROX', 'TRON11', 'HGHAF', 'HWO.', 'NXTYQ', 'GHDX', 'CPAH', 'PATH.', 'BGES', 'SCCFF', 'SR.', 'SVXA', 'CERPQ', 'CHAPQ', 'CHHP', 'URCFF', 'VEC.', 'SSBI', 'ROX', 'GNOW', 'PBKOF', 'PBL.', 'TX', 'WPHM', 'GFNCU', 'GFN', 'GFNCW', 'GFNCL', 'GFNCZ', 'GFNCP', 'EACR', 'CGIX', 'EMDF', 'GLOG', 'GLOG.PA', 'WCUI', 'BDCO', 'ASGOF', 'ASE.', 'SFPI', 'GBLL', 'NOW', 'KBSFU', 'KBSF', 'KBSFW', 'ESRI', 'LRTNF', 'PGM.', 'NFYIF', 'NFI.UN', 'NFYEF', 'NFI.', 'DMQHF', 'DHX.B', 'WLDBF', 'WILD.', 'GLUSF', 'GS.', 'GSL.U', 'GSL', 'GSL.WS', 'GSL.PB', 'EVR', 'FOLD', 'SNANF', 'SPT.', 'ARMZF', 'ORA.', 'SNMP', 'CNCT', 'HBI', 'NEUL', 'NLN.', 'MYEC', 'PGSI', 'LXRP', 'INFI', 'MPMQ', 'SGTI', 'FFHL', 'TBLZ', 'HREEF', 'HRE.', 'DRGDF', 'DGC.', 'TLGN', 'GRCAF', 'GRC.', 'TMIBF', 'TMI.B', 'CRECF', 'CRE.', 'CBMDF', 'TCF.H', 'MIDLF', 'MD.', 'OREXQ', 'CYRP', 'GALOF', 'GRI.', 'TRMNF.', 'TRM.', 'PMCCF', 'PTVYF.1', 'PTV.H', 'IFAM', 'IFM.', 'STACF', 'SRZ.H', 'AETI', 'MBCI', 'FUGMF', 'FURA.', 'ESPAF', 'ESP.', 'JXMNF', 'JAX.', 'CMGO', 'CPIX', 'FTMR', 'FTM.', 'SAND', 'SSL.', 'SNXXF', 'SSL.WT.1', 'SNXZF', 'SSL.WT.B', 'SSL.WT.C', 'SDDXF', 'SSL.WT', 'GOCH', 'GCHT', 'TRYXF', 'BST.', 'KOGMF', 'KGL.', 'DKTS', 'KALO', 'BTBIF', 'BTB.UN', 'GPHOF', 'GPH.', 'ERGO', 'SCU', 'SRCI', 'SVAUF', 'SVI.', 'NMM', 'FRCGF', 'FGX.', 'FGX.WT.A', 'FGX.WT.B', 'FGX.WT.C', 'FGX.WT.D', 'FNV', 'FNV.', 'FNCNF', 'FNV.WT', 'FNNWF', 'FNV.WT.A', 'FNGHF', 'FNV.WT.B', 'MYND', 'MYNDW', 'SFBC', 'ATURF', 'AGY.', 'CSII', 'RGSEQ', 'MKGI', 'AYTU', 'GFKRF', 'OOR.', 'CATPF', 'EMM.', 'LOGM', 'DPS', 'OCLN', 'SCYYF', 'SCY.', 'EMC.WT.', 'TMDI', 'TMD.', 'TMD.WT', 'TMD.WT.A', 'TMD.WT.B', 'TMD.WT.D', 'TMD.WT.E', 'TMD.WT.C', 'TTXXF', 'TMD.WT.F', 'TIXXF', 'TMD.WT.G', 'TMD.WT.H', 'TTLLF', 'TMD.WT.I', 'ECHO', 'MS.PE', 'MS.PG', 'MS.PI', 'MS.PK', 'MS.PL', 'SB', 'SB.PB', 'SB.PC', 'SB.PD', 'PTAM', 'TMAK', 'AGDXF', 'AGD.', 'TSRMF', 'TML.', 'ABBB', 'QNCCF', 'QNC.', 'RNGC', 'ANCB', 'UPIN', 'ALARF', 'AD.UN', 'PGVI', 'ENGT', 'ABIO', 'TASY', 'TETAA', 'CYOU', 'DHCPQ', 'DHCPW', 'DHCBW', 'WOLV', 'IGEX', 'LEON', 'SRCRF', 'SGN.', 'ENRJ', 'ENRJP', 'ZSTN', 'WTKN', 'ENCTF', 'EPO.', 'TDNT', 'BUDZ', 'EVSP', 'ANVH', 'CLNY', 'CLNY.PA', 'CLNY.PB', 'CLNY.PC', 'CLNS.PA', 'CLNS.PE', 'CLNS.PB', 'CLNY.PH', 'CLNY.PG', 'CLNS.PF', 'CLNS.PD', 'CLNS.PC', 'CLNY.PI', 'CLNY.PJ', 'GEBRF', 'GRB.', 'DLMAF', 'DOL.', 'SWHN', 'MXRSF', 'COIN.', 'BRGO', 'ST', 'CRMD', 'CRMD.U', 'CRMD.WS', 'RAREF', 'LL.', 'VPYYF', 'VPY.', 'NMKEF', 'NMX.', 'NMX.WT', 'BGMZF', 'BGM.', 'PDGO', 'VRZPF.', 'ALK.H', 'CTXV', 'HTHT', 'PRMW.1', 'NWHUF', 'NWH.UN', 'AMRS', 'NXPI', 'TXLZF', 'TXL.', 'CAMZF', 'COR.', 'BORNY', 'TOWR', 'BWOWF', 'BWOWU', 'BWOWW', 'REGX', 'INCT', 'ANFC', 'ASMB', 'MEGEF', 'MEG.', 'ELBSF', 'EL.', 'LZENF', 'SOPV', 'COHO', 'RIOFF', 'RIO.', 'TUNG', 'LASLY', 'TRMLF', 'TOU.', 'EGRGF', 'EGL.', 'MHYR', 'GDLLF', 'GEO.', 'UAN', 'SWET', 'OXLC', 'OXLCP.1', 'OXLCO', 'OXLCN', 'OXLCM', 'WIZD', 'SUNS', 'NLNK', 'WMTN', 'MITT', 'MITT.PA', 'MITT.PB', 'MITT.PC', 'CANB', 'SMPR', 'SVROF', 'SPD.', 'NXOPF', 'NXO.', 'ACST', 'ACST.', 'GMLP', 'GMLPP', 'MTGE', 'MTGEP', 'ANLDF', 'AEC.', 'CLRB', 'CLRBW', 'CLRBZ', 'RCTC', 'WOWU', 'PNTZF', 'TM.', 'GLDLF', 'GOLD.', 'LRZZF.1', 'IEX.H', 'GBNXF', 'GEI.', 'ISRJF', 'GIII.', 'AFAN', 'ROII', 'RDMPQ', 'ATBYF', 'RZZ.', 'ENIP', 'RSASF', 'RSS.', 'GDSKF', 'NZN.', 'CHUY', 'FRG', 'CAT.', 'FBIO', 'FBIOP', 'CWMCF', 'WCC.', 'RNBI', 'VNRFY', 'BAK', 'ABEV', 'ABV', 'DRD', 'SNMCY', 'LRENY', 'DTTLY', 'MRPLY', 'GFSZY', 'NGG', 'FRCOY', 'PRESY', 'GELYY', 'RBGPF', 'RBGLY', 'PBR.A', 'PBR', 'CIG', 'CEMFF', 'CIG.C', 'EVTNF', 'EVSBY', 'ASXFY', 'RDEIY', 'GVDBF', 'GVDNY', 'CMPGY', 'GZTGF', 'GZT.', 'CMGHY', 'IDEXY', 'IGT', 'GTKYY', 'MFG', 'PPGNY', 'AGLDF', 'AAM.', 'SNMRY', 'PSTV', 'CYTXW.1', 'CYTXW', 'PSTVZ', 'BNTCW', 'BNTC.1', 'CGORF', 'CIT.', 'HEP', 'MTL', '4207B', 'MTL.P', 'AMSSY', 'TEZNY', 'IPXHY', 'FRRVY', 'SUOPY', 'BFRA', 'MONDY', 'MOKO', 'PHXXY', 'ORXGF', 'ORC.B', 'ORC.A', 'ALGXY', 'NATDQ', 'NADLQ', 'NXXYF', 'NYX.'])"
      ]
     },
     "execution_count": 163,
     "metadata": {},
     "output_type": "execute_result"
    }
   ],
   "source": [
    "covariances.keys()"
   ]
  },
  {
   "cell_type": "code",
   "execution_count": 165,
   "metadata": {},
   "outputs": [
    {
     "data": {
      "text/plain": [
       "[nan,\n",
       " nan,\n",
       " nan,\n",
       " nan,\n",
       " nan,\n",
       " nan,\n",
       " nan,\n",
       " nan,\n",
       " nan,\n",
       " nan,\n",
       " nan,\n",
       " nan,\n",
       " nan,\n",
       " nan,\n",
       " nan,\n",
       " nan,\n",
       " nan,\n",
       " nan,\n",
       " nan,\n",
       " nan,\n",
       " nan,\n",
       " nan,\n",
       " nan,\n",
       " nan,\n",
       " nan,\n",
       " nan,\n",
       " nan,\n",
       " nan,\n",
       " nan,\n",
       " nan,\n",
       " nan,\n",
       " nan,\n",
       " nan,\n",
       " nan,\n",
       " nan,\n",
       " nan,\n",
       " nan,\n",
       " nan,\n",
       " nan,\n",
       " nan,\n",
       " nan,\n",
       " nan,\n",
       " nan,\n",
       " nan,\n",
       " nan,\n",
       " nan,\n",
       " nan,\n",
       " nan,\n",
       " nan,\n",
       " nan,\n",
       " nan,\n",
       " nan,\n",
       " nan,\n",
       " nan,\n",
       " nan,\n",
       " nan,\n",
       " nan,\n",
       " nan,\n",
       " nan,\n",
       " nan,\n",
       " nan,\n",
       " nan,\n",
       " nan,\n",
       " nan,\n",
       " nan,\n",
       " nan,\n",
       " nan,\n",
       " nan,\n",
       " nan,\n",
       " nan,\n",
       " nan,\n",
       " nan,\n",
       " nan,\n",
       " nan,\n",
       " nan,\n",
       " nan,\n",
       " nan,\n",
       " nan,\n",
       " nan,\n",
       " nan,\n",
       " nan,\n",
       " nan,\n",
       " nan,\n",
       " nan,\n",
       " nan,\n",
       " nan,\n",
       " nan,\n",
       " nan,\n",
       " nan,\n",
       " nan,\n",
       " nan,\n",
       " nan,\n",
       " nan,\n",
       " nan,\n",
       " nan,\n",
       " nan,\n",
       " nan,\n",
       " nan,\n",
       " nan,\n",
       " nan,\n",
       " nan,\n",
       " nan,\n",
       " nan,\n",
       " nan,\n",
       " nan,\n",
       " nan,\n",
       " nan,\n",
       " nan,\n",
       " nan,\n",
       " nan,\n",
       " nan,\n",
       " nan,\n",
       " nan,\n",
       " nan,\n",
       " nan,\n",
       " nan,\n",
       " nan,\n",
       " nan,\n",
       " nan,\n",
       " nan,\n",
       " nan,\n",
       " nan,\n",
       " nan,\n",
       " nan,\n",
       " nan,\n",
       " nan,\n",
       " nan,\n",
       " nan,\n",
       " nan,\n",
       " nan,\n",
       " nan,\n",
       " nan,\n",
       " nan,\n",
       " nan,\n",
       " nan,\n",
       " nan,\n",
       " nan,\n",
       " nan,\n",
       " nan,\n",
       " nan,\n",
       " nan,\n",
       " nan,\n",
       " nan,\n",
       " nan,\n",
       " nan,\n",
       " nan,\n",
       " nan,\n",
       " nan,\n",
       " nan,\n",
       " nan,\n",
       " nan]"
      ]
     },
     "execution_count": 165,
     "metadata": {},
     "output_type": "execute_result"
    }
   ],
   "source": [
    "covariances['AFAP']"
   ]
  },
  {
   "cell_type": "code",
   "execution_count": null,
   "metadata": {},
   "outputs": [],
   "source": []
  }
 ],
 "metadata": {
  "kernelspec": {
   "display_name": "Python 3",
   "language": "python",
   "name": "python3"
  },
  "language_info": {
   "codemirror_mode": {
    "name": "ipython",
    "version": 3
   },
   "file_extension": ".py",
   "mimetype": "text/x-python",
   "name": "python",
   "nbconvert_exporter": "python",
   "pygments_lexer": "ipython3",
   "version": "3.8.0"
  }
 },
 "nbformat": 4,
 "nbformat_minor": 2
}
